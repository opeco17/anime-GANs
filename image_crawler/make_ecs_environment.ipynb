{
 "cells": [
  {
   "cell_type": "code",
   "execution_count": 7,
   "metadata": {},
   "outputs": [],
   "source": [
    "import boto3\n",
    "import uuid"
   ]
  },
  {
   "cell_type": "code",
   "execution_count": 8,
   "metadata": {},
   "outputs": [],
   "source": [
    "client = boto3.client('ecs')\n",
    "uid = str(uuid.uuid4())"
   ]
  },
  {
   "cell_type": "code",
   "execution_count": 13,
   "metadata": {},
   "outputs": [],
   "source": [
    "names = {\n",
    "    'cluster': 'pixiv_image_crawler'+uid,\n",
    "    'task': 'pixiv_image_crawler'+uid,\n",
    "    'container': 'pixiv_image_crawler'+uid,\n",
    "    'service': 'pixiv_image_crawler'+uid,\n",
    "}"
   ]
  },
  {
   "cell_type": "code",
   "execution_count": 16,
   "metadata": {
    "scrolled": true
   },
   "outputs": [
    {
     "data": {
      "text/plain": [
       "{'cluster': {'clusterArn': 'arn:aws:ecs:ap-northeast-1:829044821271:cluster/pixiv_image_crawler3f43355d-527b-4804-bb78-26dda8b866c3',\n",
       "  'clusterName': 'pixiv_image_crawler3f43355d-527b-4804-bb78-26dda8b866c3',\n",
       "  'status': 'ACTIVE',\n",
       "  'registeredContainerInstancesCount': 0,\n",
       "  'runningTasksCount': 0,\n",
       "  'pendingTasksCount': 0,\n",
       "  'activeServicesCount': 0,\n",
       "  'statistics': [],\n",
       "  'tags': [],\n",
       "  'settings': [{'name': 'containerInsights', 'value': 'disabled'}],\n",
       "  'capacityProviders': [],\n",
       "  'defaultCapacityProviderStrategy': []},\n",
       " 'ResponseMetadata': {'RequestId': '4a21496d-da3e-4e7d-ac8f-f3a22fedd148',\n",
       "  'HTTPStatusCode': 200,\n",
       "  'HTTPHeaders': {'x-amzn-requestid': '4a21496d-da3e-4e7d-ac8f-f3a22fedd148',\n",
       "   'content-type': 'application/x-amz-json-1.1',\n",
       "   'content-length': '475',\n",
       "   'date': 'Sat, 16 May 2020 16:02:49 GMT'},\n",
       "  'RetryAttempts': 0}}"
      ]
     },
     "execution_count": 16,
     "metadata": {},
     "output_type": "execute_result"
    }
   ],
   "source": [
    "client.create_cluster(\n",
    "    clusterName=names['cluster'],\n",
    ")"
   ]
  },
  {
   "cell_type": "code",
   "execution_count": 17,
   "metadata": {},
   "outputs": [
    {
     "ename": "InvalidParameterException",
     "evalue": "An error occurred (InvalidParameterException) when calling the RegisterContainerInstance operation: The identity document and identity document signature were not valid.",
     "output_type": "error",
     "traceback": [
      "\u001b[0;31m---------------------------------------------------------------------------\u001b[0m",
      "\u001b[0;31mInvalidParameterException\u001b[0m                 Traceback (most recent call last)",
      "\u001b[0;32m<ipython-input-17-e7f4d49c692c>\u001b[0m in \u001b[0;36m<module>\u001b[0;34m\u001b[0m\n\u001b[1;32m      1\u001b[0m client.register_container_instance(\n\u001b[0;32m----> 2\u001b[0;31m     \u001b[0mcluster\u001b[0m\u001b[0;34m=\u001b[0m\u001b[0mnames\u001b[0m\u001b[0;34m[\u001b[0m\u001b[0;34m'cluster'\u001b[0m\u001b[0;34m]\u001b[0m\u001b[0;34m,\u001b[0m\u001b[0;34m\u001b[0m\u001b[0;34m\u001b[0m\u001b[0m\n\u001b[0m\u001b[1;32m      3\u001b[0m )\n",
      "\u001b[0;32m~/opt/anaconda3/lib/python3.7/site-packages/botocore/client.py\u001b[0m in \u001b[0;36m_api_call\u001b[0;34m(self, *args, **kwargs)\u001b[0m\n\u001b[1;32m    314\u001b[0m                     \"%s() only accepts keyword arguments.\" % py_operation_name)\n\u001b[1;32m    315\u001b[0m             \u001b[0;31m# The \"self\" in this scope is referring to the BaseClient.\u001b[0m\u001b[0;34m\u001b[0m\u001b[0;34m\u001b[0m\u001b[0;34m\u001b[0m\u001b[0m\n\u001b[0;32m--> 316\u001b[0;31m             \u001b[0;32mreturn\u001b[0m \u001b[0mself\u001b[0m\u001b[0;34m.\u001b[0m\u001b[0m_make_api_call\u001b[0m\u001b[0;34m(\u001b[0m\u001b[0moperation_name\u001b[0m\u001b[0;34m,\u001b[0m \u001b[0mkwargs\u001b[0m\u001b[0;34m)\u001b[0m\u001b[0;34m\u001b[0m\u001b[0;34m\u001b[0m\u001b[0m\n\u001b[0m\u001b[1;32m    317\u001b[0m \u001b[0;34m\u001b[0m\u001b[0m\n\u001b[1;32m    318\u001b[0m         \u001b[0m_api_call\u001b[0m\u001b[0;34m.\u001b[0m\u001b[0m__name__\u001b[0m \u001b[0;34m=\u001b[0m \u001b[0mstr\u001b[0m\u001b[0;34m(\u001b[0m\u001b[0mpy_operation_name\u001b[0m\u001b[0;34m)\u001b[0m\u001b[0;34m\u001b[0m\u001b[0;34m\u001b[0m\u001b[0m\n",
      "\u001b[0;32m~/opt/anaconda3/lib/python3.7/site-packages/botocore/client.py\u001b[0m in \u001b[0;36m_make_api_call\u001b[0;34m(self, operation_name, api_params)\u001b[0m\n\u001b[1;32m    624\u001b[0m             \u001b[0merror_code\u001b[0m \u001b[0;34m=\u001b[0m \u001b[0mparsed_response\u001b[0m\u001b[0;34m.\u001b[0m\u001b[0mget\u001b[0m\u001b[0;34m(\u001b[0m\u001b[0;34m\"Error\"\u001b[0m\u001b[0;34m,\u001b[0m \u001b[0;34m{\u001b[0m\u001b[0;34m}\u001b[0m\u001b[0;34m)\u001b[0m\u001b[0;34m.\u001b[0m\u001b[0mget\u001b[0m\u001b[0;34m(\u001b[0m\u001b[0;34m\"Code\"\u001b[0m\u001b[0;34m)\u001b[0m\u001b[0;34m\u001b[0m\u001b[0;34m\u001b[0m\u001b[0m\n\u001b[1;32m    625\u001b[0m             \u001b[0merror_class\u001b[0m \u001b[0;34m=\u001b[0m \u001b[0mself\u001b[0m\u001b[0;34m.\u001b[0m\u001b[0mexceptions\u001b[0m\u001b[0;34m.\u001b[0m\u001b[0mfrom_code\u001b[0m\u001b[0;34m(\u001b[0m\u001b[0merror_code\u001b[0m\u001b[0;34m)\u001b[0m\u001b[0;34m\u001b[0m\u001b[0;34m\u001b[0m\u001b[0m\n\u001b[0;32m--> 626\u001b[0;31m             \u001b[0;32mraise\u001b[0m \u001b[0merror_class\u001b[0m\u001b[0;34m(\u001b[0m\u001b[0mparsed_response\u001b[0m\u001b[0;34m,\u001b[0m \u001b[0moperation_name\u001b[0m\u001b[0;34m)\u001b[0m\u001b[0;34m\u001b[0m\u001b[0;34m\u001b[0m\u001b[0m\n\u001b[0m\u001b[1;32m    627\u001b[0m         \u001b[0;32melse\u001b[0m\u001b[0;34m:\u001b[0m\u001b[0;34m\u001b[0m\u001b[0;34m\u001b[0m\u001b[0m\n\u001b[1;32m    628\u001b[0m             \u001b[0;32mreturn\u001b[0m \u001b[0mparsed_response\u001b[0m\u001b[0;34m\u001b[0m\u001b[0;34m\u001b[0m\u001b[0m\n",
      "\u001b[0;31mInvalidParameterException\u001b[0m: An error occurred (InvalidParameterException) when calling the RegisterContainerInstance operation: The identity document and identity document signature were not valid."
     ]
    }
   ],
   "source": [
    "client.register_container_instance(\n",
    "    cluster=names['cluster'],\n",
    ")"
   ]
  },
  {
   "cell_type": "code",
   "execution_count": 11,
   "metadata": {
    "scrolled": true
   },
   "outputs": [
    {
     "data": {
      "text/plain": [
       "{'taskDefinition': {'taskDefinitionArn': 'arn:aws:ecs:ap-northeast-1:829044821271:task-definition/pixiv_image_crawler5241cf42-de44-4ef5-95c2-63f08df94388:1',\n",
       "  'containerDefinitions': [{'name': 'pixiv_image_crawler5241cf42-de44-4ef5-95c2-63f08df94388',\n",
       "    'image': '829044821271.dkr.ecr.ap-northeast-1.amazonaws.com/image_crawler:latest',\n",
       "    'cpu': 8,\n",
       "    'memory': 1024,\n",
       "    'portMappings': [],\n",
       "    'essential': True,\n",
       "    'environment': [],\n",
       "    'mountPoints': [],\n",
       "    'volumesFrom': []}],\n",
       "  'family': 'pixiv_image_crawler5241cf42-de44-4ef5-95c2-63f08df94388',\n",
       "  'taskRoleArn': 'arn:aws:iam::829044821271:role/ImageCrawlerECSTask',\n",
       "  'executionRoleArn': 'arn:aws:iam::829044821271:role/ImageCrawlerECSTask',\n",
       "  'networkMode': 'awsvpc',\n",
       "  'revision': 1,\n",
       "  'volumes': [],\n",
       "  'status': 'ACTIVE',\n",
       "  'requiresAttributes': [{'name': 'com.amazonaws.ecs.capability.ecr-auth'},\n",
       "   {'name': 'com.amazonaws.ecs.capability.task-iam-role'},\n",
       "   {'name': 'ecs.capability.execution-role-ecr-pull'},\n",
       "   {'name': 'com.amazonaws.ecs.capability.docker-remote-api.1.18'},\n",
       "   {'name': 'ecs.capability.task-eni'}],\n",
       "  'placementConstraints': [],\n",
       "  'compatibilities': ['EC2']},\n",
       " 'ResponseMetadata': {'RequestId': 'b827fc45-dcb7-4faa-9f6d-03377cbcedb2',\n",
       "  'HTTPStatusCode': 200,\n",
       "  'HTTPHeaders': {'x-amzn-requestid': 'b827fc45-dcb7-4faa-9f6d-03377cbcedb2',\n",
       "   'content-type': 'application/x-amz-json-1.1',\n",
       "   'content-length': '1036',\n",
       "   'date': 'Sat, 16 May 2020 15:37:04 GMT'},\n",
       "  'RetryAttempts': 0}}"
      ]
     },
     "execution_count": 11,
     "metadata": {},
     "output_type": "execute_result"
    }
   ],
   "source": [
    "client.register_task_definition(\n",
    "    family=names['task'],\n",
    "    taskRoleArn='arn:aws:iam::829044821271:role/ImageCrawlerECSTask',\n",
    "    executionRoleArn='arn:aws:iam::829044821271:role/ImageCrawlerECSTask',\n",
    "    networkMode='awsvpc',\n",
    "    containerDefinitions=[\n",
    "        {\n",
    "            'name': names['container'],\n",
    "            'image': '829044821271.dkr.ecr.ap-northeast-1.amazonaws.com/image_crawler:latest',\n",
    "            'cpu': 8,\n",
    "            'memory': 1024,\n",
    "        }\n",
    "    ]\n",
    ")"
   ]
  },
  {
   "cell_type": "code",
   "execution_count": 12,
   "metadata": {
    "scrolled": true
   },
   "outputs": [
    {
     "data": {
      "text/plain": [
       "{'service': {'serviceArn': 'arn:aws:ecs:ap-northeast-1:829044821271:service/pixiv_image_crawler5241cf42-de44-4ef5-95c2-63f08df94388',\n",
       "  'serviceName': 'pixiv_image_crawler5241cf42-de44-4ef5-95c2-63f08df94388',\n",
       "  'clusterArn': 'arn:aws:ecs:ap-northeast-1:829044821271:cluster/pixiv_image_crawler5241cf42-de44-4ef5-95c2-63f08df94388',\n",
       "  'loadBalancers': [],\n",
       "  'serviceRegistries': [],\n",
       "  'status': 'ACTIVE',\n",
       "  'desiredCount': 1,\n",
       "  'runningCount': 0,\n",
       "  'pendingCount': 0,\n",
       "  'launchType': 'EC2',\n",
       "  'taskDefinition': 'arn:aws:ecs:ap-northeast-1:829044821271:task-definition/pixiv_image_crawler5241cf42-de44-4ef5-95c2-63f08df94388:1',\n",
       "  'deploymentConfiguration': {'maximumPercent': 200,\n",
       "   'minimumHealthyPercent': 100},\n",
       "  'deployments': [{'id': 'ecs-svc/7190528640534126767',\n",
       "    'status': 'PRIMARY',\n",
       "    'taskDefinition': 'arn:aws:ecs:ap-northeast-1:829044821271:task-definition/pixiv_image_crawler5241cf42-de44-4ef5-95c2-63f08df94388:1',\n",
       "    'desiredCount': 1,\n",
       "    'pendingCount': 0,\n",
       "    'runningCount': 0,\n",
       "    'createdAt': datetime.datetime(2020, 5, 17, 0, 37, 5, 470000, tzinfo=tzlocal()),\n",
       "    'updatedAt': datetime.datetime(2020, 5, 17, 0, 37, 5, 470000, tzinfo=tzlocal()),\n",
       "    'launchType': 'EC2',\n",
       "    'networkConfiguration': {'awsvpcConfiguration': {'subnets': ['subnet-07bdef4714c6be1d9'],\n",
       "      'securityGroups': ['sg-014af1073fc8a5e0f'],\n",
       "      'assignPublicIp': 'DISABLED'}}}],\n",
       "  'roleArn': 'arn:aws:iam::829044821271:role/aws-service-role/ecs.amazonaws.com/AWSServiceRoleForECS',\n",
       "  'events': [],\n",
       "  'createdAt': datetime.datetime(2020, 5, 17, 0, 37, 5, 470000, tzinfo=tzlocal()),\n",
       "  'placementConstraints': [],\n",
       "  'placementStrategy': [],\n",
       "  'networkConfiguration': {'awsvpcConfiguration': {'subnets': ['subnet-07bdef4714c6be1d9'],\n",
       "    'securityGroups': ['sg-014af1073fc8a5e0f'],\n",
       "    'assignPublicIp': 'DISABLED'}},\n",
       "  'schedulingStrategy': 'REPLICA',\n",
       "  'enableECSManagedTags': False,\n",
       "  'propagateTags': 'NONE'},\n",
       " 'ResponseMetadata': {'RequestId': '73af701d-605d-4842-80ca-7a34a88a393e',\n",
       "  'HTTPStatusCode': 200,\n",
       "  'HTTPHeaders': {'x-amzn-requestid': '73af701d-605d-4842-80ca-7a34a88a393e',\n",
       "   'content-type': 'application/x-amz-json-1.1',\n",
       "   'content-length': '1593',\n",
       "   'date': 'Sat, 16 May 2020 15:37:04 GMT'},\n",
       "  'RetryAttempts': 0}}"
      ]
     },
     "execution_count": 12,
     "metadata": {},
     "output_type": "execute_result"
    }
   ],
   "source": [
    "client.create_service(\n",
    "    cluster=names['cluster'],\n",
    "    serviceName=names['service'],\n",
    "    taskDefinition=names['task'],\n",
    "    desiredCount=1,\n",
    "    launchType='EC2',\n",
    "    networkConfiguration={\n",
    "        'awsvpcConfiguration': {\n",
    "            'subnets': [\n",
    "                'subnet-07bdef4714c6be1d9',\n",
    "            ],\n",
    "            'securityGroups': [\n",
    "                'sg-014af1073fc8a5e0f',\n",
    "            ],\n",
    "        }\n",
    "    }\n",
    ")"
   ]
  },
  {
   "cell_type": "code",
   "execution_count": null,
   "metadata": {},
   "outputs": [],
   "source": []
  }
 ],
 "metadata": {
  "kernelspec": {
   "display_name": "Python 3",
   "language": "python",
   "name": "python3"
  },
  "language_info": {
   "codemirror_mode": {
    "name": "ipython",
    "version": 3
   },
   "file_extension": ".py",
   "mimetype": "text/x-python",
   "name": "python",
   "nbconvert_exporter": "python",
   "pygments_lexer": "ipython3",
   "version": "3.7.4"
  }
 },
 "nbformat": 4,
 "nbformat_minor": 2
}
