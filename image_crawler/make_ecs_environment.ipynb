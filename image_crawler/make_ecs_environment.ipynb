{
 "cells": [
  {
   "cell_type": "code",
   "execution_count": 1,
   "metadata": {},
   "outputs": [],
   "source": [
    "import boto3"
   ]
  },
  {
   "cell_type": "code",
   "execution_count": 2,
   "metadata": {},
   "outputs": [],
   "source": [
    "client = boto3.client('ecs')"
   ]
  },
  {
   "cell_type": "code",
   "execution_count": 5,
   "metadata": {},
   "outputs": [],
   "source": [
    "names = {\n",
    "    'cluster': 'test2',\n",
    "    'service': 'test2'\n",
    "}"
   ]
  },
  {
   "cell_type": "code",
   "execution_count": 4,
   "metadata": {
    "scrolled": false
   },
   "outputs": [
    {
     "data": {
      "text/plain": [
       "{'cluster': {'clusterArn': 'arn:aws:ecs:ap-northeast-1:829044821271:cluster/test2',\n",
       "  'clusterName': 'test2',\n",
       "  'status': 'ACTIVE',\n",
       "  'registeredContainerInstancesCount': 0,\n",
       "  'runningTasksCount': 0,\n",
       "  'pendingTasksCount': 0,\n",
       "  'activeServicesCount': 0,\n",
       "  'statistics': [],\n",
       "  'tags': [],\n",
       "  'settings': [{'name': 'containerInsights', 'value': 'disabled'}],\n",
       "  'capacityProviders': [],\n",
       "  'defaultCapacityProviderStrategy': []},\n",
       " 'ResponseMetadata': {'RequestId': 'ec7c3a15-6d78-4559-b6e5-f60a9c12cc2c',\n",
       "  'HTTPStatusCode': 200,\n",
       "  'HTTPHeaders': {'x-amzn-requestid': 'ec7c3a15-6d78-4559-b6e5-f60a9c12cc2c',\n",
       "   'content-type': 'application/x-amz-json-1.1',\n",
       "   'content-length': '375',\n",
       "   'date': 'Sat, 16 May 2020 03:49:14 GMT'},\n",
       "  'RetryAttempts': 0}}"
      ]
     },
     "execution_count": 4,
     "metadata": {},
     "output_type": "execute_result"
    }
   ],
   "source": [
    "client.create_cluster(\n",
    "    clusterName=names['cluster'],\n",
    ")"
   ]
  },
  {
   "cell_type": "code",
   "execution_count": null,
   "metadata": {},
   "outputs": [],
   "source": [
    "client.create_service(\n",
    "    cluster=names['cluster'],\n",
    "    serviceName=names['service'],\n",
    "    taskDefinition=\n",
    ")"
   ]
  }
 ],
 "metadata": {
  "kernelspec": {
   "display_name": "Python 3",
   "language": "python",
   "name": "python3"
  },
  "language_info": {
   "codemirror_mode": {
    "name": "ipython",
    "version": 3
   },
   "file_extension": ".py",
   "mimetype": "text/x-python",
   "name": "python",
   "nbconvert_exporter": "python",
   "pygments_lexer": "ipython3",
   "version": "3.7.4"
  }
 },
 "nbformat": 4,
 "nbformat_minor": 2
}
