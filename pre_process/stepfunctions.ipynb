{
 "cells": [
  {
   "cell_type": "code",
   "execution_count": 23,
   "metadata": {},
   "outputs": [],
   "source": [
    "import logging\n",
    "import json\n",
    "import uuid\n",
    "\n",
    "import boto3\n",
    "import stepfunctions\n",
    "from stepfunctions import steps\n",
    "from stepfunctions.workflow import Workflow"
   ]
  },
  {
   "cell_type": "code",
   "execution_count": 24,
   "metadata": {},
   "outputs": [],
   "source": [
    "stepfunctions.set_stream_logger(level=logging.INFO)\n",
    "workflow_execution_role = 'arn:aws:iam::829044821271:role/StepFunctionsWorkflowExecutionRole'"
   ]
  },
  {
   "cell_type": "code",
   "execution_count": 25,
   "metadata": {},
   "outputs": [],
   "source": [
    "with open('./face_clip/aws_batch/batch_names.json', 'r') as f:\n",
    "    face_clip_name = json.load(f)\n",
    "    \n",
    "with open('./tag_extraction/aws_batch/batch_names.json', 'r') as f:\n",
    "    tag_extraction_name = json.load(f)"
   ]
  },
  {
   "cell_type": "code",
   "execution_count": 26,
   "metadata": {},
   "outputs": [],
   "source": [
    "face_clip_step = steps.BatchSubmitJobStep(\n",
    "    state_id = 'Face Clip Step',\n",
    "    parameters={\n",
    "        'JobDefinition': face_clip_name['jobDefinition'],\n",
    "        'JobName': face_clip_name['job'],\n",
    "        'JobQueue': face_clip_name['jobQueue']\n",
    "    }\n",
    ")"
   ]
  },
  {
   "cell_type": "code",
   "execution_count": 27,
   "metadata": {},
   "outputs": [],
   "source": [
    "tag_extraction_step = steps.BatchSubmitJobStep(\n",
    "    state_id = 'Tag Extraction Step',\n",
    "    parameters={\n",
    "        'JobDefinition': tag_extraction_name['jobDefinition'],\n",
    "        'JobName': tag_extraction_name['job'],\n",
    "        'JobQueue': tag_extraction_name['jobQueue']\n",
    "    }\n",
    ")"
   ]
  },
  {
   "cell_type": "code",
   "execution_count": 28,
   "metadata": {},
   "outputs": [],
   "source": [
    "chain_list = [face_clip_step, tag_extraction_step]\n",
    "workflow_definition = steps.Chain(chain_list)"
   ]
  },
  {
   "cell_type": "code",
   "execution_count": 29,
   "metadata": {},
   "outputs": [],
   "source": [
    "workflow = Workflow(\n",
    "    name='preprocessing_workflow_{0}'.format(uuid.uuid4()),\n",
    "    definition=workflow_definition,\n",
    "    role=workflow_execution_role,\n",
    ")"
   ]
  },
  {
   "cell_type": "code",
   "execution_count": 30,
   "metadata": {},
   "outputs": [
    {
     "name": "stdout",
     "output_type": "stream",
     "text": [
      "\u001b[32m[INFO] Workflow created successfully on AWS Step Functions.\u001b[0m\n"
     ]
    },
    {
     "data": {
      "text/plain": [
       "'arn:aws:states:ap-northeast-1:829044821271:stateMachine:preprocessing_workflow_9be8ad65-9f8a-429e-a343-e6ce2b00076f'"
      ]
     },
     "execution_count": 30,
     "metadata": {},
     "output_type": "execute_result"
    }
   ],
   "source": [
    "workflow.create()"
   ]
  },
  {
   "cell_type": "code",
   "execution_count": 31,
   "metadata": {},
   "outputs": [
    {
     "data": {
      "text/html": [
       "\n",
       "<link rel=\"stylesheet\" type=\"text/css\" href=\"https://do0of8uwbahzz.cloudfront.net/graph.css\">\n",
       "<div id=\"graph-70\" class=\"workflowgraph\">\n",
       "    \n",
       "    <svg></svg>\n",
       "    \n",
       "</div>\n",
       "\n",
       "<script type=\"text/javascript\">\n",
       "\n",
       "require.config({\n",
       "    paths: {\n",
       "        sfn: \"https://do0of8uwbahzz.cloudfront.net/sfn\",\n",
       "    }\n",
       "});\n",
       "\n",
       "require(['sfn'], function(sfn) {\n",
       "    var options = {\n",
       "        width: $('#graph-70').width(),\n",
       "        height: 600,\n",
       "        layout: 'LR',\n",
       "        resizeHeight: true\n",
       "    };\n",
       "\n",
       "    var definition = {\"StartAt\": \"Face Clip Step\", \"States\": {\"Face Clip Step\": {\"Parameters\": {\"JobDefinition\": \"face_clip\", \"JobName\": \"face_clip\", \"JobQueue\": \"face_clip\"}, \"Resource\": \"arn:aws:states:::batch:submitJob.sync\", \"Type\": \"Task\", \"Next\": \"Tag Extraction Step\"}, \"Tag Extraction Step\": {\"Parameters\": {\"JobDefinition\": \"tag_extraction\", \"JobName\": \"tag_extraction\", \"JobQueue\": \"tag_extraction\"}, \"Resource\": \"arn:aws:states:::batch:submitJob.sync\", \"Type\": \"Task\", \"End\": true}}};\n",
       "    var elementId = '#graph-70';\n",
       "\n",
       "    var graph = new sfn.StateMachineGraph(definition, elementId, options);\n",
       "    graph.render();\n",
       "});\n",
       "\n",
       "</script>\n"
      ],
      "text/plain": [
       "<IPython.core.display.HTML object>"
      ]
     },
     "execution_count": 31,
     "metadata": {},
     "output_type": "execute_result"
    }
   ],
   "source": [
    "workflow.render_graph()"
   ]
  },
  {
   "cell_type": "code",
   "execution_count": 32,
   "metadata": {},
   "outputs": [
    {
     "name": "stdout",
     "output_type": "stream",
     "text": [
      "\u001b[32m[INFO] Workflow execution started successfully on AWS Step Functions.\u001b[0m\n"
     ]
    },
    {
     "data": {
      "text/html": [
       "Execution: <a target=\"_blank\" href=\"https://console.aws.amazon.com/states/home?region=ap-northeast-1#/executions/details/arn:aws:states:ap-northeast-1:829044821271:execution:preprocessing_workflow_9be8ad65-9f8a-429e-a343-e6ce2b00076f:1c11c963-45e8-433c-af09-2ee3474c8583\">arn:aws:states:ap-northeast-1:829044821271:execution:preprocessing_workflow_9be8ad65-9f8a-429e-a343-e6ce2b00076f:1c11c963-45e8-433c-af09-2ee3474c8583</a>"
      ],
      "text/plain": [
       "Execution(execution_arn='arn:aws:states:ap-northeast-1:829044821271:execution:preprocessing_workflow_9be8ad65-9f8a-429e-a343-e6ce2b00076f:1c11c963-45e8-433c-af09-2ee3474c8583', name=None, status=<ExecutionStatus.Running: 'RUNNING'>, start_date=datetime.datetime(2020, 5, 16, 20, 43, 25, 884000, tzinfo=tzlocal()))"
      ]
     },
     "execution_count": 32,
     "metadata": {},
     "output_type": "execute_result"
    }
   ],
   "source": [
    "workflow.execute()"
   ]
  },
  {
   "cell_type": "code",
   "execution_count": null,
   "metadata": {},
   "outputs": [],
   "source": []
  }
 ],
 "metadata": {
  "kernelspec": {
   "display_name": "Python 3",
   "language": "python",
   "name": "python3"
  },
  "language_info": {
   "codemirror_mode": {
    "name": "ipython",
    "version": 3
   },
   "file_extension": ".py",
   "mimetype": "text/x-python",
   "name": "python",
   "nbconvert_exporter": "python",
   "pygments_lexer": "ipython3",
   "version": "3.7.4"
  }
 },
 "nbformat": 4,
 "nbformat_minor": 2
}
